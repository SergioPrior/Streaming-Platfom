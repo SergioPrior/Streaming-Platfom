{
 "cells": [
  {
   "cell_type": "code",
   "execution_count": 293,
   "metadata": {},
   "outputs": [],
   "source": [
    "import pandas as pd"
   ]
  },
  {
   "cell_type": "code",
   "execution_count": 294,
   "metadata": {},
   "outputs": [],
   "source": [
    "prime = pd.read_csv(\"../amazon_prime_titles.csv\")\n",
    "prime[\"Plataforma\"] = \"Prime_video\"\n",
    "\n",
    "disney = pd.read_csv(\"../disney_plus_titles.csv\")\n",
    "disney[\"Plataforma\"]= \"Disney_plus\"\n",
    "\n",
    "hulu = pd.read_csv(\"../hulu_titles.csv\")\n",
    "hulu[\"Plataforma\"] = \"Hulu\"\n",
    "\n",
    "netflix = pd.read_csv(\"../netflix_titles.csv\")\n",
    "netflix[\"Plataforma\"] = \"Netflix\" "
   ]
  },
  {
   "cell_type": "code",
   "execution_count": 295,
   "metadata": {},
   "outputs": [],
   "source": [
    "#Concatenamos los CSV\n",
    "plataformas = [prime, netflix, hulu, disney]\n",
    "\n",
    "streaming = pd.concat(plataformas)"
   ]
  },
  {
   "cell_type": "code",
   "execution_count": 296,
   "metadata": {},
   "outputs": [
    {
     "name": "stdout",
     "output_type": "stream",
     "text": [
      "<class 'pandas.core.frame.DataFrame'>\n",
      "Index: 22998 entries, 0 to 1449\n",
      "Data columns (total 13 columns):\n",
      " #   Column        Non-Null Count  Dtype \n",
      "---  ------        --------------  ----- \n",
      " 0   show_id       22998 non-null  object\n",
      " 1   type          22998 non-null  object\n",
      " 2   title         22998 non-null  object\n",
      " 3   director      14738 non-null  object\n",
      " 4   cast          17677 non-null  object\n",
      " 5   country       11499 non-null  object\n",
      " 6   date_added    13444 non-null  object\n",
      " 7   release_year  22998 non-null  int64 \n",
      " 8   rating        22134 non-null  object\n",
      " 9   duration      22516 non-null  object\n",
      " 10  listed_in     22998 non-null  object\n",
      " 11  description   22994 non-null  object\n",
      " 12  Plataforma    22998 non-null  object\n",
      "dtypes: int64(1), object(12)\n",
      "memory usage: 2.5+ MB\n"
     ]
    }
   ],
   "source": [
    "streaming.info()"
   ]
  },
  {
   "cell_type": "code",
   "execution_count": 297,
   "metadata": {},
   "outputs": [],
   "source": [
    "#nos quedamos con la fecha del año nada mas el metodo split corta y te devuelve una lista por el valor cortado en este caso la \" , \" y lo que hacemos\n",
    "#con .str [-1] es que cogemos el primer valor de la lista empezando por el final en este caso el año.\n",
    "streaming['date_added'] = streaming['date_added'].str.split(', ').str[-1]"
   ]
  },
  {
   "cell_type": "code",
   "execution_count": 298,
   "metadata": {},
   "outputs": [
    {
     "data": {
      "text/html": [
       "<div>\n",
       "<style scoped>\n",
       "    .dataframe tbody tr th:only-of-type {\n",
       "        vertical-align: middle;\n",
       "    }\n",
       "\n",
       "    .dataframe tbody tr th {\n",
       "        vertical-align: top;\n",
       "    }\n",
       "\n",
       "    .dataframe thead th {\n",
       "        text-align: right;\n",
       "    }\n",
       "</style>\n",
       "<table border=\"1\" class=\"dataframe\">\n",
       "  <thead>\n",
       "    <tr style=\"text-align: right;\">\n",
       "      <th></th>\n",
       "      <th>show_id</th>\n",
       "      <th>type</th>\n",
       "      <th>title</th>\n",
       "      <th>director</th>\n",
       "      <th>cast</th>\n",
       "      <th>country</th>\n",
       "      <th>date_added</th>\n",
       "      <th>release_year</th>\n",
       "      <th>rating</th>\n",
       "      <th>duration</th>\n",
       "      <th>listed_in</th>\n",
       "      <th>description</th>\n",
       "      <th>Plataforma</th>\n",
       "    </tr>\n",
       "  </thead>\n",
       "  <tbody>\n",
       "    <tr>\n",
       "      <th>0</th>\n",
       "      <td>s1</td>\n",
       "      <td>Movie</td>\n",
       "      <td>The Grand Seduction</td>\n",
       "      <td>Don McKellar</td>\n",
       "      <td>Brendan Gleeson, Taylor Kitsch, Gordon Pinsent</td>\n",
       "      <td>Canada</td>\n",
       "      <td>2021</td>\n",
       "      <td>2014</td>\n",
       "      <td>NaN</td>\n",
       "      <td>113 min</td>\n",
       "      <td>Comedy, Drama</td>\n",
       "      <td>A small fishing village must procure a local d...</td>\n",
       "      <td>Prime_video</td>\n",
       "    </tr>\n",
       "    <tr>\n",
       "      <th>1</th>\n",
       "      <td>s2</td>\n",
       "      <td>Movie</td>\n",
       "      <td>Take Care Good Night</td>\n",
       "      <td>Girish Joshi</td>\n",
       "      <td>Mahesh Manjrekar, Abhay Mahajan, Sachin Khedekar</td>\n",
       "      <td>India</td>\n",
       "      <td>2021</td>\n",
       "      <td>2018</td>\n",
       "      <td>13+</td>\n",
       "      <td>110 min</td>\n",
       "      <td>Drama, International</td>\n",
       "      <td>A Metro Family decides to fight a Cyber Crimin...</td>\n",
       "      <td>Prime_video</td>\n",
       "    </tr>\n",
       "    <tr>\n",
       "      <th>2</th>\n",
       "      <td>s3</td>\n",
       "      <td>Movie</td>\n",
       "      <td>Secrets of Deception</td>\n",
       "      <td>Josh Webber</td>\n",
       "      <td>Tom Sizemore, Lorenzo Lamas, Robert LaSardo, R...</td>\n",
       "      <td>United States</td>\n",
       "      <td>2021</td>\n",
       "      <td>2017</td>\n",
       "      <td>NaN</td>\n",
       "      <td>74 min</td>\n",
       "      <td>Action, Drama, Suspense</td>\n",
       "      <td>After a man discovers his wife is cheating on ...</td>\n",
       "      <td>Prime_video</td>\n",
       "    </tr>\n",
       "    <tr>\n",
       "      <th>3</th>\n",
       "      <td>s4</td>\n",
       "      <td>Movie</td>\n",
       "      <td>Pink: Staying True</td>\n",
       "      <td>Sonia Anderson</td>\n",
       "      <td>Interviews with: Pink, Adele, Beyoncé, Britney...</td>\n",
       "      <td>United States</td>\n",
       "      <td>2021</td>\n",
       "      <td>2014</td>\n",
       "      <td>NaN</td>\n",
       "      <td>69 min</td>\n",
       "      <td>Documentary</td>\n",
       "      <td>Pink breaks the mold once again, bringing her ...</td>\n",
       "      <td>Prime_video</td>\n",
       "    </tr>\n",
       "    <tr>\n",
       "      <th>4</th>\n",
       "      <td>s5</td>\n",
       "      <td>Movie</td>\n",
       "      <td>Monster Maker</td>\n",
       "      <td>Giles Foster</td>\n",
       "      <td>Harry Dean Stanton, Kieran O'Brien, George Cos...</td>\n",
       "      <td>United Kingdom</td>\n",
       "      <td>2021</td>\n",
       "      <td>1989</td>\n",
       "      <td>NaN</td>\n",
       "      <td>45 min</td>\n",
       "      <td>Drama, Fantasy</td>\n",
       "      <td>Teenage Matt Banting wants to work with a famo...</td>\n",
       "      <td>Prime_video</td>\n",
       "    </tr>\n",
       "  </tbody>\n",
       "</table>\n",
       "</div>"
      ],
      "text/plain": [
       "  show_id   type                 title        director  \\\n",
       "0      s1  Movie   The Grand Seduction    Don McKellar   \n",
       "1      s2  Movie  Take Care Good Night    Girish Joshi   \n",
       "2      s3  Movie  Secrets of Deception     Josh Webber   \n",
       "3      s4  Movie    Pink: Staying True  Sonia Anderson   \n",
       "4      s5  Movie         Monster Maker    Giles Foster   \n",
       "\n",
       "                                                cast         country  \\\n",
       "0     Brendan Gleeson, Taylor Kitsch, Gordon Pinsent          Canada   \n",
       "1   Mahesh Manjrekar, Abhay Mahajan, Sachin Khedekar           India   \n",
       "2  Tom Sizemore, Lorenzo Lamas, Robert LaSardo, R...   United States   \n",
       "3  Interviews with: Pink, Adele, Beyoncé, Britney...   United States   \n",
       "4  Harry Dean Stanton, Kieran O'Brien, George Cos...  United Kingdom   \n",
       "\n",
       "  date_added  release_year rating duration                listed_in  \\\n",
       "0       2021          2014    NaN  113 min            Comedy, Drama   \n",
       "1       2021          2018    13+  110 min     Drama, International   \n",
       "2       2021          2017    NaN   74 min  Action, Drama, Suspense   \n",
       "3       2021          2014    NaN   69 min              Documentary   \n",
       "4       2021          1989    NaN   45 min           Drama, Fantasy   \n",
       "\n",
       "                                         description   Plataforma  \n",
       "0  A small fishing village must procure a local d...  Prime_video  \n",
       "1  A Metro Family decides to fight a Cyber Crimin...  Prime_video  \n",
       "2  After a man discovers his wife is cheating on ...  Prime_video  \n",
       "3  Pink breaks the mold once again, bringing her ...  Prime_video  \n",
       "4  Teenage Matt Banting wants to work with a famo...  Prime_video  "
      ]
     },
     "execution_count": 298,
     "metadata": {},
     "output_type": "execute_result"
    }
   ],
   "source": [
    "streaming.head()"
   ]
  },
  {
   "cell_type": "code",
   "execution_count": 299,
   "metadata": {},
   "outputs": [],
   "source": [
    "#eliminamos las columnas que no nos hacen falta\n",
    "streaming.drop(columns= [\"description\"], inplace = True)"
   ]
  },
  {
   "cell_type": "code",
   "execution_count": 300,
   "metadata": {},
   "outputs": [
    {
     "data": {
      "text/plain": [
       "array([nan, '13+', 'ALL', '18+', 'R', 'TV-Y', 'TV-Y7', 'NR', '16+',\n",
       "       'TV-PG', '7+', 'TV-14', 'TV-NR', 'TV-G', 'PG-13', 'TV-MA', 'G',\n",
       "       'PG', 'NC-17', 'UNRATED', '16', 'AGES_16_', 'AGES_18_', 'ALL_AGES',\n",
       "       'NOT_RATE', '74 min', '84 min', '66 min', 'TV-Y7-FV', 'UR',\n",
       "       'NOT RATED', '2 Seasons', '93 min', '4 Seasons', '136 min',\n",
       "       '91 min', '85 min', '98 min', '89 min', '94 min', '86 min',\n",
       "       '3 Seasons', '121 min', '88 min', '101 min', '1 Season', '83 min',\n",
       "       '100 min', '95 min', '92 min', '96 min', '109 min', '99 min',\n",
       "       '75 min', '87 min', '67 min', '104 min', '107 min', '103 min',\n",
       "       '105 min', '119 min', '114 min', '82 min', '90 min', '130 min',\n",
       "       '110 min', '80 min', '6 Seasons', '97 min', '111 min', '81 min',\n",
       "       '49 min', '45 min', '41 min', '73 min', '40 min', '36 min',\n",
       "       '39 min', '34 min', '47 min', '65 min', '37 min', '78 min',\n",
       "       '102 min', '129 min', '115 min', '112 min', '61 min', '106 min',\n",
       "       '76 min', '77 min', '79 min', '157 min', '28 min', '64 min',\n",
       "       '7 min', '5 min', '6 min', '127 min', '142 min', '108 min',\n",
       "       '57 min', '118 min', '116 min', '12 Seasons', '71 min'],\n",
       "      dtype=object)"
      ]
     },
     "execution_count": 300,
     "metadata": {},
     "output_type": "execute_result"
    }
   ],
   "source": [
    "streaming.rating.unique()"
   ]
  },
  {
   "cell_type": "code",
   "execution_count": 301,
   "metadata": {},
   "outputs": [],
   "source": [
    "#diccionario de rating\n",
    "rating_replace = {\"ALL_AGES\":\"ALL\",\"TV-Y\":\"ALL\",\"TV-Y7\":\"7+\",\"NR\":\"UNRATED\",\"TV-PG\":\"16+\",\"PG\":\"16+\",\"NC-17\":\"16+\",\"16\":\"16+\",\"AGES_16\":\"16+\",\n",
    "                  \"AGES_18\":\"18+\",\"NOT_RATE\":\"UNRATED\",\"NOT_RATED\":\"UNRATED\",\"74 min\":\"UNRATED\",\"84 min\":\"UNRATED\",\"66 min\":\"UNRATED\",\"UR\":\"UNRATED\",\n",
    "                  \"2 Seasons\":\"UNRATED\",\"4 Seasons\":\"UNRATED\",\"3 Seasons\":\"UNRATED\",\"1 Season\":\"UNRATED\",\"6 Seasons\":\"UNRATED\",\"R\":\"18+\",\n",
    "                  \"AGES_18_\":\"18+\",\"AGES_16_\":\"16+\",\"TV-Y7-FV\":\"7+\",\"G\":\"ALL\",\"TV-MA\":\"16+\",\"12 Seasons\":\"UNRATED\",\"NO_CLASIFICADO\":\"UNRATED\",\"TV-14\":\"14+\",\n",
    "                  \"TV-NR\":\"18+\",\"NOT RATED\":\"UNRATED\",\"PG-13\":\"13+\",\"TV-G\":\"ALL\"}"
   ]
  },
  {
   "cell_type": "code",
   "execution_count": 302,
   "metadata": {},
   "outputs": [],
   "source": [
    "streaming.rating = streaming.rating.replace(rating_replace)"
   ]
  },
  {
   "cell_type": "code",
   "execution_count": 303,
   "metadata": {},
   "outputs": [],
   "source": [
    "#Rellenamos NaN de clasificacion\n",
    "streaming.rating=streaming.rating.fillna(\"UNRATED\")"
   ]
  },
  {
   "cell_type": "code",
   "execution_count": 304,
   "metadata": {},
   "outputs": [
    {
     "data": {
      "text/html": [
       "<div>\n",
       "<style scoped>\n",
       "    .dataframe tbody tr th:only-of-type {\n",
       "        vertical-align: middle;\n",
       "    }\n",
       "\n",
       "    .dataframe tbody tr th {\n",
       "        vertical-align: top;\n",
       "    }\n",
       "\n",
       "    .dataframe thead th {\n",
       "        text-align: right;\n",
       "    }\n",
       "</style>\n",
       "<table border=\"1\" class=\"dataframe\">\n",
       "  <thead>\n",
       "    <tr style=\"text-align: right;\">\n",
       "      <th></th>\n",
       "      <th>show_id</th>\n",
       "      <th>type</th>\n",
       "      <th>title</th>\n",
       "      <th>director</th>\n",
       "      <th>cast</th>\n",
       "      <th>country</th>\n",
       "      <th>date_added</th>\n",
       "      <th>release_year</th>\n",
       "      <th>rating</th>\n",
       "      <th>duration</th>\n",
       "      <th>listed_in</th>\n",
       "      <th>Plataforma</th>\n",
       "    </tr>\n",
       "  </thead>\n",
       "  <tbody>\n",
       "    <tr>\n",
       "      <th>0</th>\n",
       "      <td>s1</td>\n",
       "      <td>Movie</td>\n",
       "      <td>The Grand Seduction</td>\n",
       "      <td>Don McKellar</td>\n",
       "      <td>Brendan Gleeson, Taylor Kitsch, Gordon Pinsent</td>\n",
       "      <td>Canada</td>\n",
       "      <td>2021</td>\n",
       "      <td>2014</td>\n",
       "      <td>UNRATED</td>\n",
       "      <td>113 min</td>\n",
       "      <td>Comedy, Drama</td>\n",
       "      <td>Prime_video</td>\n",
       "    </tr>\n",
       "    <tr>\n",
       "      <th>1</th>\n",
       "      <td>s2</td>\n",
       "      <td>Movie</td>\n",
       "      <td>Take Care Good Night</td>\n",
       "      <td>Girish Joshi</td>\n",
       "      <td>Mahesh Manjrekar, Abhay Mahajan, Sachin Khedekar</td>\n",
       "      <td>India</td>\n",
       "      <td>2021</td>\n",
       "      <td>2018</td>\n",
       "      <td>13+</td>\n",
       "      <td>110 min</td>\n",
       "      <td>Drama, International</td>\n",
       "      <td>Prime_video</td>\n",
       "    </tr>\n",
       "    <tr>\n",
       "      <th>2</th>\n",
       "      <td>s3</td>\n",
       "      <td>Movie</td>\n",
       "      <td>Secrets of Deception</td>\n",
       "      <td>Josh Webber</td>\n",
       "      <td>Tom Sizemore, Lorenzo Lamas, Robert LaSardo, R...</td>\n",
       "      <td>United States</td>\n",
       "      <td>2021</td>\n",
       "      <td>2017</td>\n",
       "      <td>UNRATED</td>\n",
       "      <td>74 min</td>\n",
       "      <td>Action, Drama, Suspense</td>\n",
       "      <td>Prime_video</td>\n",
       "    </tr>\n",
       "    <tr>\n",
       "      <th>3</th>\n",
       "      <td>s4</td>\n",
       "      <td>Movie</td>\n",
       "      <td>Pink: Staying True</td>\n",
       "      <td>Sonia Anderson</td>\n",
       "      <td>Interviews with: Pink, Adele, Beyoncé, Britney...</td>\n",
       "      <td>United States</td>\n",
       "      <td>2021</td>\n",
       "      <td>2014</td>\n",
       "      <td>UNRATED</td>\n",
       "      <td>69 min</td>\n",
       "      <td>Documentary</td>\n",
       "      <td>Prime_video</td>\n",
       "    </tr>\n",
       "    <tr>\n",
       "      <th>4</th>\n",
       "      <td>s5</td>\n",
       "      <td>Movie</td>\n",
       "      <td>Monster Maker</td>\n",
       "      <td>Giles Foster</td>\n",
       "      <td>Harry Dean Stanton, Kieran O'Brien, George Cos...</td>\n",
       "      <td>United Kingdom</td>\n",
       "      <td>2021</td>\n",
       "      <td>1989</td>\n",
       "      <td>UNRATED</td>\n",
       "      <td>45 min</td>\n",
       "      <td>Drama, Fantasy</td>\n",
       "      <td>Prime_video</td>\n",
       "    </tr>\n",
       "  </tbody>\n",
       "</table>\n",
       "</div>"
      ],
      "text/plain": [
       "  show_id   type                 title        director  \\\n",
       "0      s1  Movie   The Grand Seduction    Don McKellar   \n",
       "1      s2  Movie  Take Care Good Night    Girish Joshi   \n",
       "2      s3  Movie  Secrets of Deception     Josh Webber   \n",
       "3      s4  Movie    Pink: Staying True  Sonia Anderson   \n",
       "4      s5  Movie         Monster Maker    Giles Foster   \n",
       "\n",
       "                                                cast         country  \\\n",
       "0     Brendan Gleeson, Taylor Kitsch, Gordon Pinsent          Canada   \n",
       "1   Mahesh Manjrekar, Abhay Mahajan, Sachin Khedekar           India   \n",
       "2  Tom Sizemore, Lorenzo Lamas, Robert LaSardo, R...   United States   \n",
       "3  Interviews with: Pink, Adele, Beyoncé, Britney...   United States   \n",
       "4  Harry Dean Stanton, Kieran O'Brien, George Cos...  United Kingdom   \n",
       "\n",
       "  date_added  release_year   rating duration                listed_in  \\\n",
       "0       2021          2014  UNRATED  113 min            Comedy, Drama   \n",
       "1       2021          2018      13+  110 min     Drama, International   \n",
       "2       2021          2017  UNRATED   74 min  Action, Drama, Suspense   \n",
       "3       2021          2014  UNRATED   69 min              Documentary   \n",
       "4       2021          1989  UNRATED   45 min           Drama, Fantasy   \n",
       "\n",
       "    Plataforma  \n",
       "0  Prime_video  \n",
       "1  Prime_video  \n",
       "2  Prime_video  \n",
       "3  Prime_video  \n",
       "4  Prime_video  "
      ]
     },
     "execution_count": 304,
     "metadata": {},
     "output_type": "execute_result"
    }
   ],
   "source": [
    "streaming.head()"
   ]
  },
  {
   "cell_type": "code",
   "execution_count": 305,
   "metadata": {},
   "outputs": [
    {
     "data": {
      "text/plain": [
       "show_id             0\n",
       "type                0\n",
       "title               0\n",
       "director         8260\n",
       "cast             5321\n",
       "country         11499\n",
       "date_added       9554\n",
       "release_year        0\n",
       "rating              0\n",
       "duration          482\n",
       "listed_in           0\n",
       "Plataforma          0\n",
       "dtype: int64"
      ]
     },
     "execution_count": 305,
     "metadata": {},
     "output_type": "execute_result"
    }
   ],
   "source": [
    "#Vemos si tenemos nan\n",
    "streaming.isna().sum()"
   ]
  },
  {
   "cell_type": "code",
   "execution_count": 306,
   "metadata": {},
   "outputs": [],
   "source": [
    "#Diccionario de cambio de nombres de columnas.\n",
    "rename_columns = {\"show_id\":\"id\",\"type\":\"tipo\",\"cast\":\"cartel\",\"country\":\"pais\",\"date_added\":\"año_plataforma\",\"release_year\":\"año_estreno\",\n",
    "                  \"rating\":\"clasificacion\",\"duration\":\"duracion\",\"listed_in\":\"argumento\",\"title\":\"titulo\"}"
   ]
  },
  {
   "cell_type": "code",
   "execution_count": 307,
   "metadata": {},
   "outputs": [],
   "source": [
    "#renombramos los nombres de las columnas\n",
    "streaming.rename(columns = rename_columns, inplace = True)"
   ]
  },
  {
   "cell_type": "code",
   "execution_count": 308,
   "metadata": {},
   "outputs": [],
   "source": [
    "streaming['duracion'] = streaming['duracion'].str.split(' ').str[0]"
   ]
  },
  {
   "cell_type": "code",
   "execution_count": 309,
   "metadata": {},
   "outputs": [],
   "source": [
    "streaming.duracion=streaming.duracion.astype(float)"
   ]
  },
  {
   "cell_type": "code",
   "execution_count": 310,
   "metadata": {},
   "outputs": [],
   "source": [
    "streaming.reset_index=True"
   ]
  },
  {
   "cell_type": "code",
   "execution_count": 311,
   "metadata": {},
   "outputs": [],
   "source": [
    "#Rellenamos los NaN de las diferentes columnas.\n",
    "streaming.director.fillna(\"desconocido\", inplace= True)\n",
    "streaming.cartel.fillna(\"desconocido\", inplace= True)\n",
    "streaming.pais.fillna(\"desconocido\", inplace= True)\n",
    "streaming.año_plataforma.fillna(\"desconocido\", inplace= True)"
   ]
  },
  {
   "cell_type": "code",
   "execution_count": 312,
   "metadata": {},
   "outputs": [],
   "source": [
    "# Calcula la mediana de la duración\n",
    "median_duracion = streaming['duracion'].median()\n",
    "\n",
    "# Rellena los valores nulos en la columna 'duracion' con la mediana calculada\n",
    "streaming['duracion'].fillna(median_duracion, inplace=True)\n"
   ]
  },
  {
   "cell_type": "code",
   "execution_count": 313,
   "metadata": {},
   "outputs": [
    {
     "name": "stdout",
     "output_type": "stream",
     "text": [
      "<class 'pandas.core.frame.DataFrame'>\n",
      "Index: 22998 entries, 0 to 1449\n",
      "Data columns (total 12 columns):\n",
      " #   Column          Non-Null Count  Dtype  \n",
      "---  ------          --------------  -----  \n",
      " 0   id              22998 non-null  object \n",
      " 1   tipo            22998 non-null  object \n",
      " 2   titulo          22998 non-null  object \n",
      " 3   director        22998 non-null  object \n",
      " 4   cartel          22998 non-null  object \n",
      " 5   pais            22998 non-null  object \n",
      " 6   año_plataforma  22998 non-null  object \n",
      " 7   año_estreno     22998 non-null  int64  \n",
      " 8   clasificacion   22998 non-null  object \n",
      " 9   duracion        22998 non-null  float64\n",
      " 10  argumento       22998 non-null  object \n",
      " 11  Plataforma      22998 non-null  object \n",
      "dtypes: float64(1), int64(1), object(10)\n",
      "memory usage: 2.3+ MB\n"
     ]
    }
   ],
   "source": [
    "streaming.info()"
   ]
  },
  {
   "cell_type": "code",
   "execution_count": 314,
   "metadata": {},
   "outputs": [],
   "source": [
    "streaming = streaming.assign(pais=streaming.pais.str.split(\", \")).explode(\"pais\")"
   ]
  },
  {
   "cell_type": "code",
   "execution_count": 315,
   "metadata": {},
   "outputs": [
    {
     "data": {
      "text/plain": [
       "(25851, 12)"
      ]
     },
     "execution_count": 315,
     "metadata": {},
     "output_type": "execute_result"
    }
   ],
   "source": [
    "streaming.shape"
   ]
  },
  {
   "cell_type": "code",
   "execution_count": 317,
   "metadata": {},
   "outputs": [],
   "source": [
    "streaming.to_csv(\"PlatformStream.csv\")"
   ]
  },
  {
   "cell_type": "code",
   "execution_count": null,
   "metadata": {},
   "outputs": [],
   "source": []
  }
 ],
 "metadata": {
  "kernelspec": {
   "display_name": "base",
   "language": "python",
   "name": "python3"
  },
  "language_info": {
   "codemirror_mode": {
    "name": "ipython",
    "version": 3
   },
   "file_extension": ".py",
   "mimetype": "text/x-python",
   "name": "python",
   "nbconvert_exporter": "python",
   "pygments_lexer": "ipython3",
   "version": "3.11.5"
  }
 },
 "nbformat": 4,
 "nbformat_minor": 2
}
